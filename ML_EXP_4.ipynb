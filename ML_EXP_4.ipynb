{
 "cells": [
  {
   "cell_type": "code",
   "execution_count": 9,
   "id": "5e7621e2-3be8-469d-ad9f-2ca9520a6b8d",
   "metadata": {},
   "outputs": [],
   "source": [
    "import pandas as pd\n",
    "\n",
    "# Upload the CSV file here or give the correct path\n",
    "df = pd.read_csv('synthetic_credit_card_approval.csv')\n",
    "\n",
    "# Example: splitting into X and y\n",
    "X = df.drop('Target', axis=1).values\n",
    "y = df['Target'].values\n"
   ]
  },
  {
   "cell_type": "code",
   "execution_count": 10,
   "id": "bc0523c4-e37d-49ac-86a2-e8d28480b791",
   "metadata": {},
   "outputs": [],
   "source": [
    "import numpy as np\n",
    "\n",
    "class LogisticRegressionScratch:\n",
    "    def __init__(self, learning_rate=0.01, n_iter=1000):\n",
    "        self.learning_rate = learning_rate\n",
    "        self.n_iter = n_iter\n",
    "    \n",
    "    def sigmoid(self, z):\n",
    "        return 1 / (1 + np.exp(-z))\n",
    "    \n",
    "    def fit(self, X, y):\n",
    "        self.m, self.n = X.shape\n",
    "        self.weights = np.zeros(self.n)\n",
    "        self.bias = 0\n",
    "        \n",
    "        # Gradient descent\n",
    "        for _ in range(self.n_iter):\n",
    "            linear_model = np.dot(X, self.weights) + self.bias\n",
    "            y_predicted = self.sigmoid(linear_model)\n",
    "            \n",
    "            # Compute gradients\n",
    "            dw = (1 / self.m) * np.dot(X.T, (y_predicted - y))\n",
    "            db = (1 / self.m) * np.sum(y_predicted - y)\n",
    "            \n",
    "            # Update weights and bias\n",
    "            self.weights -= self.learning_rate * dw\n",
    "            self.bias -= self.learning_rate * db\n",
    "    \n",
    "    def predict_prob(self, X):\n",
    "        linear_model = np.dot(X, self.weights) + self.bias\n",
    "        return self.sigmoid(linear_model)\n",
    "    \n",
    "    def predict(self, X, threshold=0.5):\n",
    "        probs = self.predict_prob(X)\n",
    "        return np.where(probs >= threshold, 1, 0)"
   ]
  },
  {
   "cell_type": "code",
   "execution_count": 11,
   "id": "2886c1d6-376e-44db-bb94-4d6cc80a32db",
   "metadata": {},
   "outputs": [
    {
     "ename": "NameError",
     "evalue": "name 'X_train' is not defined",
     "output_type": "error",
     "traceback": [
      "\u001b[31m---------------------------------------------------------------------------\u001b[39m",
      "\u001b[31mNameError\u001b[39m                                 Traceback (most recent call last)",
      "\u001b[36mCell\u001b[39m\u001b[36m \u001b[39m\u001b[32mIn[11]\u001b[39m\u001b[32m, line 5\u001b[39m\n\u001b[32m      2\u001b[39m model = LogisticRegressionScratch(learning_rate=\u001b[32m0.1\u001b[39m, n_iter=\u001b[32m1000\u001b[39m)\n\u001b[32m      4\u001b[39m \u001b[38;5;66;03m# Fit the model\u001b[39;00m\n\u001b[32m----> \u001b[39m\u001b[32m5\u001b[39m model.fit(\u001b[43mX_train\u001b[49m, y_train)\n\u001b[32m      7\u001b[39m \u001b[38;5;66;03m# Predict on test set\u001b[39;00m\n\u001b[32m      8\u001b[39m y_pred = model.predict(X_test)\n",
      "\u001b[31mNameError\u001b[39m: name 'X_train' is not defined"
     ]
    }
   ],
   "source": [
    "# Create the model\n",
    "model = LogisticRegressionScratch(learning_rate=0.1, n_iter=1000)\n",
    "\n",
    "# Fit the model\n",
    "model.fit(X_train, y_train)\n",
    "\n",
    "# Predict on test set\n",
    "y_pred = model.predict(X_test)\n",
    "\n",
    "# Evaluate\n",
    "accuracy = np.mean(y_pred == y_test)\n",
    "print(\"Test Accuracy:\", accuracy)\n"
   ]
  },
  {
   "cell_type": "code",
   "execution_count": null,
   "id": "75c76137-90ca-4922-bc08-a732c095ebe3",
   "metadata": {},
   "outputs": [],
   "source": []
  }
 ],
 "metadata": {
  "kernelspec": {
   "display_name": "Python 3 (ipykernel)",
   "language": "python",
   "name": "python3"
  },
  "language_info": {
   "codemirror_mode": {
    "name": "ipython",
    "version": 3
   },
   "file_extension": ".py",
   "mimetype": "text/x-python",
   "name": "python",
   "nbconvert_exporter": "python",
   "pygments_lexer": "ipython3",
   "version": "3.13.5"
  }
 },
 "nbformat": 4,
 "nbformat_minor": 5
}
